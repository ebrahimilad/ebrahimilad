import pulp

# Create the problem object
prob = pulp.LpProblem("Investment Optimization", pulp.LpMaximize)

# Define the decision variables
S = pulp.LpVariable("S", lowBound=0, cat='Integer')
CB = pulp.LpVariable("CB", lowBound=0, upBound=50, cat='Integer')
CS = pulp.LpVariable("CS", lowBound=0, upBound=50, cat='Integer')
B = pulp.LpVariable("B", lowBound=0, cat='Integer')

# Define the objective function
prob += 1/3 * (-8*S - 1000*CB + 1000*CS + 10*B) \
        + 1/3 * (0*S - 500*CB + 500*CS + 10*B) \
        + 1/3 * (20*S + 1500*CB - 1500*CS + 10*B)

# Define the constraints
prob += S*20 + CB*1000 - CS*1000 + B*90 <= 20000
prob += CS + CB <= 50
prob += -8*S - 1000*CB + 1000*CS + 10*B >= 2000
prob += 0*S - 500*CB + 500*CS + 10*B >= 2000
prob += 20*S + 1500*CB - 1500*CS + 10*B >= 2000

# Solve the problem
prob.solve()

# Print the results
print("Status:", pulp.LpStatus[prob.status])
print("Maximum Profit: £", pulp.value(prob.objective))
print("Investment in Stock: £", pulp.value(S)*20)
print("Investment in Call Options (Buy): £", pulp.value(CB)*1000)
print("Investment in Call Options (Sell): £", pulp.value(CS)*1000)
print("Investment in Bond: £", pulp.value(B)*90)
print("S: ", pulp.value(S), "CB: ", pulp.value(CB), "CS: ", pulp.value(CS),"B: ", pulp.value(B))
