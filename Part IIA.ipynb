{
 "cells": [
  {
   "cell_type": "code",
   "execution_count": 2,
   "id": "211dab7a",
   "metadata": {},
   "outputs": [
    {
     "name": "stdout",
     "output_type": "stream",
     "text": [
      "Requirement already satisfied: pulp in d:\\anaconda\\lib\\site-packages (2.7.0)\n",
      "Note: you may need to restart the kernel to use updated packages.\n"
     ]
    }
   ],
   "source": [
    "pip install pulp"
   ]
  },
  {
   "cell_type": "code",
   "execution_count": 23,
   "id": "a7dabb87",
   "metadata": {},
   "outputs": [
    {
     "name": "stdout",
     "output_type": "stream",
     "text": [
      "Status: Optimal\n",
      "Maximum Profit: £ 11199.999999999998\n",
      "Investment in Stock: £ 56000.0\n",
      "Investment in Call Options (Buy): £ 0.0\n",
      "Investment in Call Options (Sell): £ 36000.0\n",
      "Investment in Bond: £ 0.0\n",
      "S:  2800.0 CB:  0.0 CS:  36.0 B:  0.0\n"
     ]
    }
   ],
   "source": [
    "import pulp\n",
    "\n",
    "# Create the problem object\n",
    "prob = pulp.LpProblem(\"Investment Optimization\", pulp.LpMaximize)\n",
    "\n",
    "# Define the decision variables\n",
    "S = pulp.LpVariable(\"S\", lowBound=0, cat='Integer')\n",
    "CB = pulp.LpVariable(\"CB\", lowBound=0, upBound=50, cat='Integer')\n",
    "CS = pulp.LpVariable(\"CS\", lowBound=0, upBound=50, cat='Integer')\n",
    "B = pulp.LpVariable(\"B\", lowBound=0, cat='Integer')\n",
    "\n",
    "# Define the objective function\n",
    "prob += 1/3 * (-8*S - 1000*CB + 1000*CS + 10*B) \\\n",
    "        + 1/3 * (0*S - 500*CB + 500*CS + 10*B) \\\n",
    "        + 1/3 * (20*S + 1500*CB - 1500*CS + 10*B)\n",
    "\n",
    "# Define the constraints\n",
    "prob += S*20 + CB*1000 - CS*1000 + B*90 <= 20000\n",
    "prob += CS + CB <= 50\n",
    "prob += -8*S - 1000*CB + 1000*CS + 10*B >= 2000\n",
    "prob += 0*S - 500*CB + 500*CS + 10*B >= 2000\n",
    "prob += 20*S + 1500*CB - 1500*CS + 10*B >= 2000\n",
    "\n",
    "# Solve the problem\n",
    "prob.solve()\n",
    "\n",
    "# Print the results\n",
    "print(\"Status:\", pulp.LpStatus[prob.status])\n",
    "print(\"Maximum Profit: £\", pulp.value(prob.objective))\n",
    "print(\"Investment in Stock: £\", pulp.value(S)*20)\n",
    "print(\"Investment in Call Options (Buy): £\", pulp.value(CB)*1000)\n",
    "print(\"Investment in Call Options (Sell): £\", pulp.value(CS)*1000)\n",
    "print(\"Investment in Bond: £\", pulp.value(B)*90)\n",
    "print(\"S: \", pulp.value(S), \"CB: \", pulp.value(CB), \"CS: \", pulp.value(CS),\"B: \", pulp.value(B))"
   ]
  },
  {
   "cell_type": "code",
   "execution_count": 22,
   "id": "8b9f3316",
   "metadata": {},
   "outputs": [
    {
     "name": "stdout",
     "output_type": "stream",
     "text": [
      "Status: Optimal\n",
      "Maximum Profit: £ 11999.999999999998\n",
      "Investment in Stock: £ 60000.0\n",
      "Investment in Call Options (Buy): £ 0.0\n",
      "Investment in Call Options (Sell): £ 40000.0\n",
      "Investment in Bond: £ 0.0\n",
      "S:  3000.0 CB:  0.0 CS:  40.0 B:  0.0\n"
     ]
    }
   ],
   "source": [
    "import pulp\n",
    "\n",
    "# Create the problem object\n",
    "prob = pulp.LpProblem(\"Investment Optimization\", pulp.LpMaximize)\n",
    "\n",
    "# Define the decision variables\n",
    "S = pulp.LpVariable(\"S\", lowBound=0, cat='Integer')\n",
    "CB = pulp.LpVariable(\"CB\", lowBound=0, upBound=50, cat='Integer')\n",
    "CS = pulp.LpVariable(\"CS\", lowBound=0, upBound=50, cat='Integer')\n",
    "B = pulp.LpVariable(\"B\", lowBound=0, cat='Integer')\n",
    "\n",
    "# Define the objective function\n",
    "prob += 1/3 * (-8*S - 1000*CB + 1000*CS + 10*B) \\\n",
    "        + 1/3 * (0*S - 500*CB + 500*CS + 10*B) \\\n",
    "        + 1/3 * (20*S + 1500*CB - 1500*CS + 10*B)\n",
    "\n",
    "# Define the constraints\n",
    "prob += S*20 + CB*1000 - CS*1000 + B*90 <= 20000\n",
    "prob += CS + CB <= 50\n",
    "prob += -8*S - 1000*CB + 1000*CS + 10*B >= 0\n",
    "prob += 0*S - 500*CB + 500*CS + 10*B >= 0\n",
    "prob += 20*S + 1500*CB - 1500*CS + 10*B >= 0\n",
    "\n",
    "# Solve the problem\n",
    "prob.solve()\n",
    "\n",
    "# Print the results\n",
    "print(\"Status:\", pulp.LpStatus[prob.status])\n",
    "print(\"Maximum Profit: £\", pulp.value(prob.objective))\n",
    "print(\"Investment in Stock: £\", pulp.value(S)*20)\n",
    "print(\"Investment in Call Options (Buy): £\", pulp.value(CB)*1000)\n",
    "print(\"Investment in Call Options (Sell): £\", pulp.value(CS)*1000)\n",
    "print(\"Investment in Bond: £\", pulp.value(B)*90)\n",
    "print(\"S: \", pulp.value(S), \"CB: \", pulp.value(CB), \"CS: \", pulp.value(CS),\"B: \", pulp.value(B))"
   ]
  },
  {
   "cell_type": "code",
   "execution_count": null,
   "id": "4bd51ff5",
   "metadata": {},
   "outputs": [],
   "source": []
  }
 ],
 "metadata": {
  "kernelspec": {
   "display_name": "Python 3 (ipykernel)",
   "language": "python",
   "name": "python3"
  },
  "language_info": {
   "codemirror_mode": {
    "name": "ipython",
    "version": 3
   },
   "file_extension": ".py",
   "mimetype": "text/x-python",
   "name": "python",
   "nbconvert_exporter": "python",
   "pygments_lexer": "ipython3",
   "version": "3.9.12"
  }
 },
 "nbformat": 4,
 "nbformat_minor": 5
}
